{
 "cells": [
  {
   "cell_type": "code",
   "execution_count": 1,
   "id": "f33e4b4b",
   "metadata": {},
   "outputs": [],
   "source": [
    "import numpy as np\n",
    "import pandas as pd"
   ]
  },
  {
   "cell_type": "code",
   "execution_count": 2,
   "id": "e046f8e0",
   "metadata": {},
   "outputs": [],
   "source": [
    "#if quarter > $3M tax is 20%\n",
    "#if q < $3M tax is 15%\n",
    "# input number of widgets sold\n",
    "#input price per widget"
   ]
  },
  {
   "cell_type": "code",
   "execution_count": 17,
   "id": "7cbd2d6a",
   "metadata": {},
   "outputs": [],
   "source": [
    "def price():\n",
    "\n",
    "    widgets = int(input(\"How many widgets sold: \"))\n",
    "    price = int(input(\"What was the price per widget: \"))\n",
    "\n",
    "    if widgets*price >= 3000000:\n",
    "        tot= (wigdgets * price)-((widgets * price)*.02)\n",
    "        print(f' Pretax earnings were ,{price} * {widgets}, = {price*widgets}')\n",
    "        print(f' Postax earnings were, {tot}')\n",
    "    \n",
    "    else:\n",
    "        tot1=(widgets * price)-((widgets *price)*.15) \n",
    "        print(f' Pretax earnings were, {price} * {widgets}, = {price*widgets}')\n",
    "        print(f' Posttax earnings were, {tot1}')"
   ]
  },
  {
   "cell_type": "code",
   "execution_count": 18,
   "id": "401f85e5",
   "metadata": {},
   "outputs": [
    {
     "name": "stdout",
     "output_type": "stream",
     "text": [
      "How many widgets sold: 5\n",
      "What was the price per widget: 100\n",
      " Pretax earnings were, 100 * 5, = 500\n",
      " Posttax earnings were, 425.0\n"
     ]
    }
   ],
   "source": [
    "price()"
   ]
  },
  {
   "cell_type": "code",
   "execution_count": null,
   "id": "5e162a47",
   "metadata": {},
   "outputs": [],
   "source": []
  }
 ],
 "metadata": {
  "kernelspec": {
   "display_name": "Python 3 (ipykernel)",
   "language": "python",
   "name": "python3"
  },
  "language_info": {
   "codemirror_mode": {
    "name": "ipython",
    "version": 3
   },
   "file_extension": ".py",
   "mimetype": "text/x-python",
   "name": "python",
   "nbconvert_exporter": "python",
   "pygments_lexer": "ipython3",
   "version": "3.9.13"
  }
 },
 "nbformat": 4,
 "nbformat_minor": 5
}
